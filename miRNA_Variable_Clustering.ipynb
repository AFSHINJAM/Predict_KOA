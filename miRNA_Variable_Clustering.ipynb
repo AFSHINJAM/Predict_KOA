{
 "cells": [
  {
   "cell_type": "code",
   "execution_count": null,
   "id": "dc9ada8c",
   "metadata": {},
   "outputs": [],
   "source": [
    "import pandas as pd\n",
    "from matplotlib import pyplot as plt\n",
    "import numpy as np\n",
    "from sklearn.preprocessing import StandardScaler\n",
    "from varclushi import VarClusHi\n",
    "%matplotlib inline\n",
    "\n",
    "df = pd.read_excel (\"DATA1.xlsx\")\n",
    "df = df.iloc[:, 5:466]"
   ]
  },
  {
   "cell_type": "code",
   "execution_count": null,
   "id": "1bc2c38f",
   "metadata": {},
   "outputs": [],
   "source": [
    "scaler = StandardScaler()\n",
    "df_scaled = scaler.fit_transform(df)\n",
    "df_scaled = pd.DataFrame(df_scaled, columns=df.columns)"
   ]
  },
  {
   "cell_type": "code",
   "execution_count": null,
   "id": "399b7b42",
   "metadata": {},
   "outputs": [],
   "source": [
    "Var_clus_model = VarClusHi(df_scaled, maxeigval2 = 0.7, maxclus= None)\n",
    "Var_clus_model.varclus()\n",
    "pd.options.display.max_rows = len(Var_clus_model.rsquare)\n",
    "print(Var_clus_model.rsquare)"
   ]
  },
  {
   "cell_type": "code",
   "execution_count": null,
   "id": "46fe18d4",
   "metadata": {},
   "outputs": [],
   "source": [
    "df2 = pd.DataFrame(Var_clus_model.rsquare)\n",
    "grouped = df2.groupby(\"Cluster\")\n",
    "min_idx = grouped[\"RS_Ratio\"].idxmin()\n",
    "selected_vars = df2.loc[min_idx, \"Variable\"]\n",
    "df3 = df[selected_vars]"
   ]
  },
  {
   "cell_type": "code",
   "execution_count": null,
   "id": "df403fa9",
   "metadata": {},
   "outputs": [],
   "source": [
    "scaler = StandardScaler()\n",
    "df_scaled = scaler.fit_transform(df3)\n",
    "df_scaled = pd.DataFrame(df_scaled, columns=df3.columns)"
   ]
  },
  {
   "cell_type": "code",
   "execution_count": null,
   "id": "3228b44d",
   "metadata": {},
   "outputs": [],
   "source": [
    "Var_clus_model = VarClusHi(df_scaled, maxeigval2 = 0.7, maxclus= None)\n",
    "Var_clus_model.varclus()\n",
    "pd.options.display.max_rows = len(Var_clus_model.rsquare)\n",
    "print(Var_clus_model.rsquare)"
   ]
  },
  {
   "cell_type": "code",
   "execution_count": null,
   "id": "d1b1fb83",
   "metadata": {},
   "outputs": [],
   "source": [
    "df4 = pd.DataFrame(Var_clus_model.rsquare)\n",
    "grouped = df4.groupby(\"Cluster\")\n",
    "min_idx = grouped[\"RS_Ratio\"].idxmin()\n",
    "selected_vars = df4.loc[min_idx, \"Variable\"]\n",
    "df5 = df[selected_vars]"
   ]
  },
  {
   "cell_type": "code",
   "execution_count": null,
   "id": "decf1699",
   "metadata": {},
   "outputs": [],
   "source": [
    "scaler = StandardScaler()\n",
    "df_scaled = scaler.fit_transform(df5)\n",
    "df_scaled = pd.DataFrame(df_scaled, columns=df5.columns)\n",
    "df_scaled.head(3)"
   ]
  },
  {
   "cell_type": "code",
   "execution_count": null,
   "id": "89f585dd",
   "metadata": {},
   "outputs": [],
   "source": [
    "Var_clus_model = VarClusHi(df_scaled, maxeigval2 = 0.7, maxclus= None)\n",
    "Var_clus_model.varclus()\n",
    "pd.options.display.max_rows = len(Var_clus_model.rsquare)\n",
    "print(Var_clus_model.rsquare)"
   ]
  },
  {
   "cell_type": "code",
   "execution_count": null,
   "id": "81922a69",
   "metadata": {},
   "outputs": [],
   "source": []
  }
 ],
 "metadata": {
  "kernelspec": {
   "display_name": "Python 3 (ipykernel)",
   "language": "python",
   "name": "python3"
  },
  "language_info": {
   "codemirror_mode": {
    "name": "ipython",
    "version": 3
   },
   "file_extension": ".py",
   "mimetype": "text/x-python",
   "name": "python",
   "nbconvert_exporter": "python",
   "pygments_lexer": "ipython3",
   "version": "3.11.5"
  }
 },
 "nbformat": 4,
 "nbformat_minor": 5
}
